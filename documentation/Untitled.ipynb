{
 "cells": [
  {
   "cell_type": "code",
   "execution_count": 1,
   "id": "fb0831b1-b966-4ac2-9c1c-27fb14286271",
   "metadata": {},
   "outputs": [],
   "source": [
    "import climate_data as cdata\n",
    "import pathlib\n",
    "from matplotlib import pyplot as plt"
   ]
  },
  {
   "cell_type": "code",
   "execution_count": 9,
   "id": "d84b6758-ec27-4717-a48d-1aadc0c0966c",
   "metadata": {},
   "outputs": [],
   "source": [
    "# Method 3: Use DMIUnified to load all data from the station.\n",
    "dat = cdata.DMIUnified('4221')"
   ]
  },
  {
   "cell_type": "code",
   "execution_count": 15,
   "id": "e4446c3b-d4df-4189-a900-58fe1d742574",
   "metadata": {},
   "outputs": [],
   "source": [
    "maat = dat3.datasets['AT'].calc_MAAT()"
   ]
  },
  {
   "cell_type": "code",
   "execution_count": 21,
   "id": "18b6ef0c-e1ea-4fbe-ad90-61698a95f1e5",
   "metadata": {},
   "outputs": [
    {
     "data": {
      "text/plain": [
       "-3.4912224065666506"
      ]
     },
     "execution_count": 21,
     "metadata": {},
     "output_type": "execute_result"
    }
   ],
   "source": [
    "maat[2011:2020]['MAATcor'].mean()"
   ]
  },
  {
   "cell_type": "code",
   "execution_count": 22,
   "id": "73a7adb6-edca-4364-a5a6-2bee773933a5",
   "metadata": {},
   "outputs": [
    {
     "data": {
      "text/plain": [
       "1.1994339684592448"
      ]
     },
     "execution_count": 22,
     "metadata": {},
     "output_type": "execute_result"
    }
   ],
   "source": [
    "maat[2011:2020]['MAATcor'].std()"
   ]
  }
 ],
 "metadata": {
  "kernelspec": {
   "display_name": "Python 3 (ipykernel)",
   "language": "python",
   "name": "python3"
  },
  "language_info": {
   "codemirror_mode": {
    "name": "ipython",
    "version": 3
   },
   "file_extension": ".py",
   "mimetype": "text/x-python",
   "name": "python",
   "nbconvert_exporter": "python",
   "pygments_lexer": "ipython3",
   "version": "3.9.12"
  }
 },
 "nbformat": 4,
 "nbformat_minor": 5
}
